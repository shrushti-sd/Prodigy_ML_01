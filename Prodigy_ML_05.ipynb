{
  "nbformat": 4,
  "nbformat_minor": 0,
  "metadata": {
    "colab": {
      "provenance": [],
      "authorship_tag": "ABX9TyNm0R01pX1lTJskCS9sgIKH",
      "include_colab_link": true
    },
    "kernelspec": {
      "name": "python3",
      "display_name": "Python 3"
    },
    "language_info": {
      "name": "python"
    }
  },
  "cells": [
    {
      "cell_type": "markdown",
      "metadata": {
        "id": "view-in-github",
        "colab_type": "text"
      },
      "source": [
        "<a href=\"https://colab.research.google.com/github/shrushti-sd/Prodigy_ML_01/blob/main/Prodigy_ML_05.ipynb\" target=\"_parent\"><img src=\"https://colab.research.google.com/assets/colab-badge.svg\" alt=\"Open In Colab\"/></a>"
      ]
    },
    {
      "cell_type": "code",
      "source": [
        "import pandas as pd\n",
        "from sklearn.preprocessing import LabelEncoder\n",
        "import tensorflow as tf\n",
        "from tensorflow.keras.models import load_model\n",
        "from tensorflow.keras.preprocessing import image\n",
        "import numpy as np\n"
      ],
      "metadata": {
        "id": "gzKV_ueOLBgN"
      },
      "execution_count": 10,
      "outputs": []
    },
    {
      "cell_type": "code",
      "source": [
        "df = pd.read_csv('/content/indian_food.csv')"
      ],
      "metadata": {
        "id": "JYB4CKZdMf8T"
      },
      "execution_count": 11,
      "outputs": []
    },
    {
      "cell_type": "code",
      "source": [
        "def estimate_calories(food_name, serving_size=1):\n",
        "    food_info = df[df['name'] == food_name].iloc[0]\n",
        "\n",
        "    calorie_map = {\n",
        "        'dessert': 350,\n",
        "        'main course': 400,\n",
        "        'snack': 200,\n",
        "        'starter': 150\n",
        "    }\n",
        "    base_calories = calorie_map.get(food_info['course'], 300)\n",
        "\n",
        "    ingredients = food_info['ingredients'].lower()\n",
        "    if 'ghee' in ingredients or 'butter' in ingredients:\n",
        "        base_calories += 80\n",
        "    if 'sugar' in ingredients or 'jaggery' in ingredients:\n",
        "        base_calories += 50\n",
        "    if 'rice' in ingredients or 'wheat' in ingredients:\n",
        "        base_calories += 70\n",
        "    if 'milk' in ingredients or 'cream' in ingredients:\n",
        "        base_calories += 60\n",
        "    return round(base_calories * serving_size, 1)"
      ],
      "metadata": {
        "id": "ffAvGPydMwn9"
      },
      "execution_count": 12,
      "outputs": []
    },
    {
      "cell_type": "code",
      "source": [
        "class FoodRecognizer:\n",
        "    def __init__(self):\n",
        "        self.label_encoder = LabelEncoder()\n",
        "        self.label_encoder.fit(df['name'])\n",
        "        self.num_classes = len(self.label_encoder.classes_)\n",
        "\n",
        "        self.model = self._create_dummy_model()\n",
        "\n",
        "    def _create_dummy_model(self):\n",
        "        model = tf.keras.Sequential([\n",
        "            tf.keras.layers.Flatten(input_shape=(224, 224, 3)),\n",
        "            tf.keras.layers.Dense(128, activation='relu'),\n",
        "            tf.keras.layers.Dense(self.num_classes, activation='softmax')\n",
        "        ])\n",
        "        return model\n",
        "\n",
        "    def recognize_food(self, img_path):\n",
        "        img = image.load_img(img_path, target_size=(224, 224))\n",
        "        img_array = image.img_to_array(img)\n",
        "        img_array = np.expand_dims(img_array, axis=0)\n",
        "        img_array /= 255.0\n",
        "\n",
        "        predictions = self.model.predict(img_array)\n",
        "        predicted_class = np.argmax(predictions[0])\n",
        "        food_name = self.label_encoder.inverse_transform([predicted_class])[0]\n",
        "\n",
        "        return food_name"
      ],
      "metadata": {
        "id": "fXH8WFPiM8Uu"
      },
      "execution_count": 13,
      "outputs": []
    },
    {
      "cell_type": "code",
      "source": [
        "class FoodTracker:\n",
        "    def __init__(self):\n",
        "        self.recognizer = FoodRecognizer()\n",
        "\n",
        "    def analyze_meal(self, image_path, serving_size=1):\n",
        "        try:\n",
        "            food_name = self.recognizer.recognize_food(image_path)\n",
        "\n",
        "            calories = estimate_calories(food_name, serving_size)\n",
        "\n",
        "            food_info = df[df['name'] == food_name].iloc[0]\n",
        "\n",
        "            return {\n",
        "                'food_name': food_name,\n",
        "                'calories': calories,\n",
        "                'serving_size': serving_size,\n",
        "                'diet_type': food_info['diet'],\n",
        "                'region': food_info['region'],\n",
        "                'course': food_info['course'],\n",
        "                'ingredients': food_info['ingredients']\n",
        "            }\n",
        "\n",
        "        except Exception as e:\n",
        "            return {'error': str(e)}"
      ],
      "metadata": {
        "id": "FxO_i4SyNox9"
      },
      "execution_count": 14,
      "outputs": []
    },
    {
      "cell_type": "code",
      "source": [
        "if __name__ == \"__main__\":\n",
        "    tracker = FoodTracker()\n",
        "\n",
        "\n",
        "    sample_food = df.sample(1).iloc[0]\n",
        "    print(f\"Analyzing: {sample_food['name']}\")\n",
        "\n",
        "    result = tracker.analyze_meal(None, serving_size=1.5)\n",
        "\n",
        "    print(\"\\nAnalysis Results:\")\n",
        "    if 'error' in result:\n",
        "        print(f\"Error analyzing meal: {result['error']}\")\n",
        "    else:\n",
        "        print(f\"Food: {result['food_name']}\")\n",
        "        print(f\"Calories: {result['calories']} kcal (for {result['serving_size']} serving)\")\n",
        "        print(f\"Diet: {result['diet_type']}\")\n",
        "        print(f\"Region: {result['region']}\")\n",
        "        print(f\"Course: {result['course']}\")\n",
        "        print(f\"Main Ingredients: {result['ingredients']}\")"
      ],
      "metadata": {
        "colab": {
          "base_uri": "https://localhost:8080/"
        },
        "id": "kQMq-B41N8LK",
        "outputId": "c8e6c993-de00-4040-a0fa-bbcaa9189c42"
      },
      "execution_count": 15,
      "outputs": [
        {
          "output_type": "stream",
          "name": "stdout",
          "text": [
            "Analyzing: Kolim Jawla\n",
            "\n",
            "Analysis Results:\n",
            "Error analyzing meal: path should be path-like or io.BytesIO, not <class 'NoneType'>\n"
          ]
        },
        {
          "output_type": "stream",
          "name": "stderr",
          "text": [
            "/usr/local/lib/python3.11/dist-packages/keras/src/layers/reshaping/flatten.py:37: UserWarning: Do not pass an `input_shape`/`input_dim` argument to a layer. When using Sequential models, prefer using an `Input(shape)` object as the first layer in the model instead.\n",
            "  super().__init__(**kwargs)\n"
          ]
        }
      ]
    }
  ]
}